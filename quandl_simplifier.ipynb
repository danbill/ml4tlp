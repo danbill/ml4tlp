{
 "cells": [
  {
   "cell_type": "code",
   "execution_count": null,
   "id": "4735f6bb",
   "metadata": {},
   "outputs": [],
   "source": [
    "import pandas as pd\n",
    "import os\n",
    "df=pd.read_csv('wiki_prices.csv')"
   ]
  },
  {
   "cell_type": "code",
   "execution_count": null,
   "id": "908123ee",
   "metadata": {},
   "outputs": [],
   "source": [
    "df['date'] = pd.to_datetime(df['date'])"
   ]
  },
  {
   "cell_type": "code",
   "execution_count": null,
   "id": "98a1af5f",
   "metadata": {},
   "outputs": [],
   "source": [
    "after_start_date = df[\"date\"] >= '2000-1-1'\n",
    "df = df.loc[after_start_date]"
   ]
  },
  {
   "cell_type": "code",
   "execution_count": null,
   "id": "1d0dd71d",
   "metadata": {},
   "outputs": [],
   "source": [
    "df.set_index(['ticker', 'date'], inplace=True)"
   ]
  },
  {
   "cell_type": "code",
   "execution_count": null,
   "id": "afc1fe72",
   "metadata": {},
   "outputs": [],
   "source": [
    "df.drop(['open', 'high', 'low', 'close', 'volume', 'ex-dividend', 'split_ratio'], axis = 1, inplace = True)"
   ]
  },
  {
   "cell_type": "code",
   "execution_count": null,
   "id": "c04436df",
   "metadata": {},
   "outputs": [],
   "source": [
    "df.rename(columns={'adj_open': 'open', 'adj_high': 'high', 'adj_low' : 'low',\n",
    "                   'adj_close' : 'close','adj_volume' : 'volume'}, inplace=True)"
   ]
  },
  {
   "cell_type": "code",
   "execution_count": null,
   "id": "3c041241",
   "metadata": {},
   "outputs": [],
   "source": [
    "df.info()"
   ]
  },
  {
   "cell_type": "code",
   "execution_count": null,
   "id": "6bc77281",
   "metadata": {},
   "outputs": [],
   "source": [
    "df.to_hdf('wiki_prices.h5', key='df', mode='w')"
   ]
  },
  {
   "cell_type": "code",
   "execution_count": null,
   "id": "2b8a9e98",
   "metadata": {},
   "outputs": [],
   "source": [
    "h5_df = pd.read_hdf('wiki_prices.h5', 'df')"
   ]
  },
  {
   "cell_type": "code",
   "execution_count": null,
   "id": "6f98d02f",
   "metadata": {},
   "outputs": [],
   "source": [
    "h5_df.info()"
   ]
  },
  {
   "cell_type": "code",
   "execution_count": null,
   "id": "8579bd86",
   "metadata": {},
   "outputs": [],
   "source": []
  }
 ],
 "metadata": {
  "kernelspec": {
   "display_name": "Python 3 (ipykernel)",
   "language": "python",
   "name": "python3"
  },
  "language_info": {
   "codemirror_mode": {
    "name": "ipython",
    "version": 3
   },
   "file_extension": ".py",
   "mimetype": "text/x-python",
   "name": "python",
   "nbconvert_exporter": "python",
   "pygments_lexer": "ipython3",
   "version": "3.8.10"
  }
 },
 "nbformat": 4,
 "nbformat_minor": 5
}
